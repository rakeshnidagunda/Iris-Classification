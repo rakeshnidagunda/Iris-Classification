{
 "cells": [
  {
   "cell_type": "code",
   "execution_count": 1,
   "id": "d69dde6b",
   "metadata": {},
   "outputs": [],
   "source": [
    "import pandas as pd\n",
    "import numpy as np\n",
    "import seaborn as sns\n",
    "from tensorflow import keras"
   ]
  },
  {
   "cell_type": "code",
   "execution_count": 4,
   "id": "9f18d85e",
   "metadata": {},
   "outputs": [
    {
     "data": {
      "text/html": [
       "<div>\n",
       "<style scoped>\n",
       "    .dataframe tbody tr th:only-of-type {\n",
       "        vertical-align: middle;\n",
       "    }\n",
       "\n",
       "    .dataframe tbody tr th {\n",
       "        vertical-align: top;\n",
       "    }\n",
       "\n",
       "    .dataframe thead th {\n",
       "        text-align: right;\n",
       "    }\n",
       "</style>\n",
       "<table border=\"1\" class=\"dataframe\">\n",
       "  <thead>\n",
       "    <tr style=\"text-align: right;\">\n",
       "      <th></th>\n",
       "      <th>Id</th>\n",
       "      <th>SepalLengthCm</th>\n",
       "      <th>SepalWidthCm</th>\n",
       "      <th>PetalLengthCm</th>\n",
       "      <th>PetalWidthCm</th>\n",
       "      <th>Species</th>\n",
       "    </tr>\n",
       "  </thead>\n",
       "  <tbody>\n",
       "    <tr>\n",
       "      <th>0</th>\n",
       "      <td>1</td>\n",
       "      <td>5.1</td>\n",
       "      <td>3.5</td>\n",
       "      <td>1.4</td>\n",
       "      <td>0.2</td>\n",
       "      <td>Iris-setosa</td>\n",
       "    </tr>\n",
       "    <tr>\n",
       "      <th>1</th>\n",
       "      <td>2</td>\n",
       "      <td>4.9</td>\n",
       "      <td>3.0</td>\n",
       "      <td>1.4</td>\n",
       "      <td>0.2</td>\n",
       "      <td>Iris-setosa</td>\n",
       "    </tr>\n",
       "    <tr>\n",
       "      <th>2</th>\n",
       "      <td>3</td>\n",
       "      <td>4.7</td>\n",
       "      <td>3.2</td>\n",
       "      <td>1.3</td>\n",
       "      <td>0.2</td>\n",
       "      <td>Iris-setosa</td>\n",
       "    </tr>\n",
       "    <tr>\n",
       "      <th>3</th>\n",
       "      <td>4</td>\n",
       "      <td>4.6</td>\n",
       "      <td>3.1</td>\n",
       "      <td>1.5</td>\n",
       "      <td>0.2</td>\n",
       "      <td>Iris-setosa</td>\n",
       "    </tr>\n",
       "    <tr>\n",
       "      <th>4</th>\n",
       "      <td>5</td>\n",
       "      <td>5.0</td>\n",
       "      <td>3.6</td>\n",
       "      <td>1.4</td>\n",
       "      <td>0.2</td>\n",
       "      <td>Iris-setosa</td>\n",
       "    </tr>\n",
       "  </tbody>\n",
       "</table>\n",
       "</div>"
      ],
      "text/plain": [
       "   Id  SepalLengthCm  SepalWidthCm  PetalLengthCm  PetalWidthCm      Species\n",
       "0   1            5.1           3.5            1.4           0.2  Iris-setosa\n",
       "1   2            4.9           3.0            1.4           0.2  Iris-setosa\n",
       "2   3            4.7           3.2            1.3           0.2  Iris-setosa\n",
       "3   4            4.6           3.1            1.5           0.2  Iris-setosa\n",
       "4   5            5.0           3.6            1.4           0.2  Iris-setosa"
      ]
     },
     "execution_count": 4,
     "metadata": {},
     "output_type": "execute_result"
    }
   ],
   "source": [
    "df = pd.read_csv('Irisdataset.csv')\n",
    "df.head()"
   ]
  },
  {
   "cell_type": "code",
   "execution_count": 5,
   "id": "507fe029",
   "metadata": {},
   "outputs": [
    {
     "data": {
      "text/plain": [
       "Iris-setosa        50\n",
       "Iris-versicolor    50\n",
       "Iris-virginica     50\n",
       "Name: Species, dtype: int64"
      ]
     },
     "execution_count": 5,
     "metadata": {},
     "output_type": "execute_result"
    }
   ],
   "source": [
    "df['Species'].value_counts()"
   ]
  },
  {
   "cell_type": "code",
   "execution_count": 6,
   "id": "57c3a3f7",
   "metadata": {},
   "outputs": [
    {
     "name": "stdout",
     "output_type": "stream",
     "text": [
      "<class 'pandas.core.frame.DataFrame'>\n",
      "RangeIndex: 150 entries, 0 to 149\n",
      "Data columns (total 6 columns):\n",
      " #   Column         Non-Null Count  Dtype  \n",
      "---  ------         --------------  -----  \n",
      " 0   Id             150 non-null    int64  \n",
      " 1   SepalLengthCm  150 non-null    float64\n",
      " 2   SepalWidthCm   150 non-null    float64\n",
      " 3   PetalLengthCm  150 non-null    float64\n",
      " 4   PetalWidthCm   150 non-null    float64\n",
      " 5   Species        150 non-null    object \n",
      "dtypes: float64(4), int64(1), object(1)\n",
      "memory usage: 7.2+ KB\n"
     ]
    }
   ],
   "source": [
    "df.info()"
   ]
  },
  {
   "cell_type": "code",
   "execution_count": 8,
   "id": "bb6ec125",
   "metadata": {},
   "outputs": [
    {
     "data": {
      "text/plain": [
       "Id               0\n",
       "SepalLengthCm    0\n",
       "SepalWidthCm     0\n",
       "PetalLengthCm    0\n",
       "PetalWidthCm     0\n",
       "Species          0\n",
       "dtype: int64"
      ]
     },
     "execution_count": 8,
     "metadata": {},
     "output_type": "execute_result"
    }
   ],
   "source": [
    "df.isnull().sum()"
   ]
  },
  {
   "cell_type": "code",
   "execution_count": 10,
   "id": "8297b332",
   "metadata": {},
   "outputs": [
    {
     "data": {
      "text/html": [
       "<div>\n",
       "<style scoped>\n",
       "    .dataframe tbody tr th:only-of-type {\n",
       "        vertical-align: middle;\n",
       "    }\n",
       "\n",
       "    .dataframe tbody tr th {\n",
       "        vertical-align: top;\n",
       "    }\n",
       "\n",
       "    .dataframe thead th {\n",
       "        text-align: right;\n",
       "    }\n",
       "</style>\n",
       "<table border=\"1\" class=\"dataframe\">\n",
       "  <thead>\n",
       "    <tr style=\"text-align: right;\">\n",
       "      <th></th>\n",
       "      <th>Id</th>\n",
       "      <th>SepalLengthCm</th>\n",
       "      <th>SepalWidthCm</th>\n",
       "      <th>PetalLengthCm</th>\n",
       "      <th>PetalWidthCm</th>\n",
       "      <th>Species</th>\n",
       "    </tr>\n",
       "  </thead>\n",
       "  <tbody>\n",
       "    <tr>\n",
       "      <th>0</th>\n",
       "      <td>1</td>\n",
       "      <td>5.1</td>\n",
       "      <td>3.5</td>\n",
       "      <td>1.4</td>\n",
       "      <td>0.2</td>\n",
       "      <td>0</td>\n",
       "    </tr>\n",
       "    <tr>\n",
       "      <th>1</th>\n",
       "      <td>2</td>\n",
       "      <td>4.9</td>\n",
       "      <td>3.0</td>\n",
       "      <td>1.4</td>\n",
       "      <td>0.2</td>\n",
       "      <td>0</td>\n",
       "    </tr>\n",
       "    <tr>\n",
       "      <th>2</th>\n",
       "      <td>3</td>\n",
       "      <td>4.7</td>\n",
       "      <td>3.2</td>\n",
       "      <td>1.3</td>\n",
       "      <td>0.2</td>\n",
       "      <td>0</td>\n",
       "    </tr>\n",
       "    <tr>\n",
       "      <th>3</th>\n",
       "      <td>4</td>\n",
       "      <td>4.6</td>\n",
       "      <td>3.1</td>\n",
       "      <td>1.5</td>\n",
       "      <td>0.2</td>\n",
       "      <td>0</td>\n",
       "    </tr>\n",
       "    <tr>\n",
       "      <th>4</th>\n",
       "      <td>5</td>\n",
       "      <td>5.0</td>\n",
       "      <td>3.6</td>\n",
       "      <td>1.4</td>\n",
       "      <td>0.2</td>\n",
       "      <td>0</td>\n",
       "    </tr>\n",
       "  </tbody>\n",
       "</table>\n",
       "</div>"
      ],
      "text/plain": [
       "   Id  SepalLengthCm  SepalWidthCm  PetalLengthCm  PetalWidthCm  Species\n",
       "0   1            5.1           3.5            1.4           0.2        0\n",
       "1   2            4.9           3.0            1.4           0.2        0\n",
       "2   3            4.7           3.2            1.3           0.2        0\n",
       "3   4            4.6           3.1            1.5           0.2        0\n",
       "4   5            5.0           3.6            1.4           0.2        0"
      ]
     },
     "execution_count": 10,
     "metadata": {},
     "output_type": "execute_result"
    }
   ],
   "source": [
    "from sklearn.preprocessing import LabelEncoder\n",
    "le = LabelEncoder()\n",
    "df['Species'] = le.fit_transform(df['Species'])\n",
    "df.head()\n"
   ]
  },
  {
   "cell_type": "code",
   "execution_count": 12,
   "id": "96d29f22",
   "metadata": {},
   "outputs": [
    {
     "name": "stdout",
     "output_type": "stream",
     "text": [
      "['Iris-setosa' 'Iris-versicolor' 'Iris-virginica']\n"
     ]
    }
   ],
   "source": [
    "species_name = le.classes_\n",
    "print(species_name)"
   ]
  },
  {
   "cell_type": "code",
   "execution_count": 13,
   "id": "19daea2a",
   "metadata": {},
   "outputs": [
    {
     "data": {
      "text/html": [
       "<div>\n",
       "<style scoped>\n",
       "    .dataframe tbody tr th:only-of-type {\n",
       "        vertical-align: middle;\n",
       "    }\n",
       "\n",
       "    .dataframe tbody tr th {\n",
       "        vertical-align: top;\n",
       "    }\n",
       "\n",
       "    .dataframe thead th {\n",
       "        text-align: right;\n",
       "    }\n",
       "</style>\n",
       "<table border=\"1\" class=\"dataframe\">\n",
       "  <thead>\n",
       "    <tr style=\"text-align: right;\">\n",
       "      <th></th>\n",
       "      <th>SepalLengthCm</th>\n",
       "      <th>SepalWidthCm</th>\n",
       "      <th>PetalLengthCm</th>\n",
       "      <th>PetalWidthCm</th>\n",
       "    </tr>\n",
       "  </thead>\n",
       "  <tbody>\n",
       "    <tr>\n",
       "      <th>0</th>\n",
       "      <td>5.1</td>\n",
       "      <td>3.5</td>\n",
       "      <td>1.4</td>\n",
       "      <td>0.2</td>\n",
       "    </tr>\n",
       "    <tr>\n",
       "      <th>1</th>\n",
       "      <td>4.9</td>\n",
       "      <td>3.0</td>\n",
       "      <td>1.4</td>\n",
       "      <td>0.2</td>\n",
       "    </tr>\n",
       "    <tr>\n",
       "      <th>2</th>\n",
       "      <td>4.7</td>\n",
       "      <td>3.2</td>\n",
       "      <td>1.3</td>\n",
       "      <td>0.2</td>\n",
       "    </tr>\n",
       "  </tbody>\n",
       "</table>\n",
       "</div>"
      ],
      "text/plain": [
       "   SepalLengthCm  SepalWidthCm  PetalLengthCm  PetalWidthCm\n",
       "0            5.1           3.5            1.4           0.2\n",
       "1            4.9           3.0            1.4           0.2\n",
       "2            4.7           3.2            1.3           0.2"
      ]
     },
     "execution_count": 13,
     "metadata": {},
     "output_type": "execute_result"
    }
   ],
   "source": [
    "X = df.drop(columns=['Id', 'Species'])\n",
    "y = df['Species']\n",
    "X.head(3)"
   ]
  },
  {
   "cell_type": "code",
   "execution_count": 14,
   "id": "fdf5dc5b",
   "metadata": {},
   "outputs": [
    {
     "name": "stdout",
     "output_type": "stream",
     "text": [
      "0    0\n",
      "1    0\n",
      "2    0\n",
      "3    0\n",
      "4    0\n",
      "Name: Species, dtype: int64\n"
     ]
    }
   ],
   "source": [
    "print(y[:5])"
   ]
  },
  {
   "cell_type": "code",
   "execution_count": 15,
   "id": "6beb56e7",
   "metadata": {},
   "outputs": [],
   "source": [
    "from sklearn.model_selection import train_test_split\n",
    "x_train, x_test, y_train, y_test = train_test_split(X, y, test_size=0.3, shuffle=True, random_state=69)"
   ]
  },
  {
   "cell_type": "code",
   "execution_count": 16,
   "id": "376b2667",
   "metadata": {},
   "outputs": [
    {
     "data": {
      "text/plain": [
       "(105, 4)"
      ]
     },
     "execution_count": 16,
     "metadata": {},
     "output_type": "execute_result"
    }
   ],
   "source": [
    "x_train.shape"
   ]
  },
  {
   "cell_type": "code",
   "execution_count": 17,
   "id": "7091c208",
   "metadata": {},
   "outputs": [
    {
     "name": "stdout",
     "output_type": "stream",
     "text": [
      "    SepalLengthCm  SepalWidthCm  PetalLengthCm  PetalWidthCm\n",
      "57            4.9           2.4            3.3           1.0\n",
      "[[-1.14630942 -1.44374444 -0.25650655 -0.258263  ]]\n"
     ]
    }
   ],
   "source": [
    "from sklearn.preprocessing import StandardScaler\n",
    "sc = StandardScaler()\n",
    "print(x_train[:1])\n",
    "x_train = sc.fit_transform(x_train)\n",
    "x_test = sc.transform(x_test)\n",
    "print(x_train[:1])"
   ]
  },
  {
   "cell_type": "code",
   "execution_count": 18,
   "id": "23b8b0cf",
   "metadata": {},
   "outputs": [
    {
     "name": "stdout",
     "output_type": "stream",
     "text": [
      "[[0. 1. 0.]\n",
      " [0. 0. 1.]\n",
      " [0. 1. 0.]\n",
      " [0. 1. 0.]\n",
      " [0. 1. 0.]]\n"
     ]
    }
   ],
   "source": [
    "y_train = keras.utils.to_categorical(y_train, num_classes=3)\n",
    "print(y_train[:5])"
   ]
  },
  {
   "cell_type": "code",
   "execution_count": 19,
   "id": "6b203733",
   "metadata": {},
   "outputs": [],
   "source": [
    "from keras.models import Sequential\n",
    "from keras.layers import Dense, Dropout"
   ]
  },
  {
   "cell_type": "code",
   "execution_count": 20,
   "id": "26e74628",
   "metadata": {},
   "outputs": [
    {
     "name": "stdout",
     "output_type": "stream",
     "text": [
      "Metal device set to: Apple M1\n"
     ]
    },
    {
     "name": "stderr",
     "output_type": "stream",
     "text": [
      "2023-05-11 04:56:58.936582: I tensorflow/core/common_runtime/pluggable_device/pluggable_device_factory.cc:306] Could not identify NUMA node of platform GPU ID 0, defaulting to 0. Your kernel may not have been built with NUMA support.\n",
      "2023-05-11 04:56:58.937420: I tensorflow/core/common_runtime/pluggable_device/pluggable_device_factory.cc:272] Created TensorFlow device (/job:localhost/replica:0/task:0/device:GPU:0 with 0 MB memory) -> physical PluggableDevice (device: 0, name: METAL, pci bus id: <undefined>)\n"
     ]
    }
   ],
   "source": [
    "model = Sequential()\n",
    "model.add(Dense(units=32, activation='relu', input_shape=(x_train.shape[-1], )))\n",
    "model.add(Dense(units=32, activation='relu'))\n",
    "model.add(Dropout(0.5))\n",
    "model.add(Dense(units=3, activation='softmax'))"
   ]
  },
  {
   "cell_type": "code",
   "execution_count": 21,
   "id": "ce7d8a2b",
   "metadata": {},
   "outputs": [
    {
     "name": "stdout",
     "output_type": "stream",
     "text": [
      "Model: \"sequential\"\n",
      "_________________________________________________________________\n",
      " Layer (type)                Output Shape              Param #   \n",
      "=================================================================\n",
      " dense (Dense)               (None, 32)                160       \n",
      "                                                                 \n",
      " dense_1 (Dense)             (None, 32)                1056      \n",
      "                                                                 \n",
      " dropout (Dropout)           (None, 32)                0         \n",
      "                                                                 \n",
      " dense_2 (Dense)             (None, 3)                 99        \n",
      "                                                                 \n",
      "=================================================================\n",
      "Total params: 1,315\n",
      "Trainable params: 1,315\n",
      "Non-trainable params: 0\n",
      "_________________________________________________________________\n"
     ]
    }
   ],
   "source": [
    "model.compile(optimizer='Adam', loss='categorical_crossentropy', metrics=['accuracy'])\n",
    "model.summary()"
   ]
  },
  {
   "cell_type": "code",
   "execution_count": 22,
   "id": "38faf8df",
   "metadata": {},
   "outputs": [
    {
     "name": "stdout",
     "output_type": "stream",
     "text": [
      "Epoch 1/100\n"
     ]
    },
    {
     "name": "stderr",
     "output_type": "stream",
     "text": [
      "2023-05-11 04:59:30.836037: W tensorflow/core/platform/profile_utils/cpu_utils.cc:128] Failed to get CPU frequency: 0 Hz\n",
      "2023-05-11 04:59:31.051446: I tensorflow/core/grappler/optimizers/custom_graph_optimizer_registry.cc:114] Plugin optimizer for device_type GPU is enabled.\n"
     ]
    },
    {
     "name": "stdout",
     "output_type": "stream",
     "text": [
      "4/4 - 0s - loss: 1.1700 - accuracy: 0.3810 - 404ms/epoch - 101ms/step\n",
      "Epoch 2/100\n",
      "4/4 - 0s - loss: 1.1580 - accuracy: 0.3714 - 41ms/epoch - 10ms/step\n",
      "Epoch 3/100\n",
      "4/4 - 0s - loss: 1.1554 - accuracy: 0.3429 - 42ms/epoch - 10ms/step\n",
      "Epoch 4/100\n",
      "4/4 - 0s - loss: 1.0570 - accuracy: 0.4762 - 35ms/epoch - 9ms/step\n",
      "Epoch 5/100\n",
      "4/4 - 0s - loss: 1.0030 - accuracy: 0.5333 - 37ms/epoch - 9ms/step\n",
      "Epoch 6/100\n",
      "4/4 - 0s - loss: 0.9586 - accuracy: 0.5238 - 38ms/epoch - 9ms/step\n",
      "Epoch 7/100\n",
      "4/4 - 0s - loss: 0.9080 - accuracy: 0.5714 - 39ms/epoch - 10ms/step\n",
      "Epoch 8/100\n",
      "4/4 - 0s - loss: 0.8406 - accuracy: 0.6190 - 38ms/epoch - 9ms/step\n",
      "Epoch 9/100\n",
      "4/4 - 0s - loss: 0.8503 - accuracy: 0.6571 - 38ms/epoch - 10ms/step\n",
      "Epoch 10/100\n",
      "4/4 - 0s - loss: 0.8130 - accuracy: 0.6571 - 38ms/epoch - 10ms/step\n",
      "Epoch 11/100\n",
      "4/4 - 0s - loss: 0.7529 - accuracy: 0.7333 - 39ms/epoch - 10ms/step\n",
      "Epoch 12/100\n",
      "4/4 - 0s - loss: 0.7364 - accuracy: 0.7238 - 36ms/epoch - 9ms/step\n",
      "Epoch 13/100\n",
      "4/4 - 0s - loss: 0.6500 - accuracy: 0.7905 - 39ms/epoch - 10ms/step\n",
      "Epoch 14/100\n",
      "4/4 - 0s - loss: 0.6467 - accuracy: 0.7524 - 43ms/epoch - 11ms/step\n",
      "Epoch 15/100\n",
      "4/4 - 0s - loss: 0.6397 - accuracy: 0.8000 - 41ms/epoch - 10ms/step\n",
      "Epoch 16/100\n",
      "4/4 - 0s - loss: 0.6348 - accuracy: 0.8000 - 59ms/epoch - 15ms/step\n",
      "Epoch 17/100\n",
      "4/4 - 0s - loss: 0.5651 - accuracy: 0.8000 - 39ms/epoch - 10ms/step\n",
      "Epoch 18/100\n",
      "4/4 - 0s - loss: 0.5705 - accuracy: 0.7619 - 41ms/epoch - 10ms/step\n",
      "Epoch 19/100\n",
      "4/4 - 0s - loss: 0.5456 - accuracy: 0.8000 - 40ms/epoch - 10ms/step\n",
      "Epoch 20/100\n",
      "4/4 - 0s - loss: 0.5371 - accuracy: 0.8095 - 42ms/epoch - 10ms/step\n",
      "Epoch 21/100\n",
      "4/4 - 0s - loss: 0.5407 - accuracy: 0.8571 - 39ms/epoch - 10ms/step\n",
      "Epoch 22/100\n",
      "4/4 - 0s - loss: 0.5193 - accuracy: 0.7619 - 41ms/epoch - 10ms/step\n",
      "Epoch 23/100\n",
      "4/4 - 0s - loss: 0.4768 - accuracy: 0.8381 - 38ms/epoch - 10ms/step\n",
      "Epoch 24/100\n",
      "4/4 - 0s - loss: 0.4880 - accuracy: 0.8476 - 40ms/epoch - 10ms/step\n",
      "Epoch 25/100\n",
      "4/4 - 0s - loss: 0.4531 - accuracy: 0.8286 - 39ms/epoch - 10ms/step\n",
      "Epoch 26/100\n",
      "4/4 - 0s - loss: 0.4400 - accuracy: 0.8286 - 35ms/epoch - 9ms/step\n",
      "Epoch 27/100\n",
      "4/4 - 0s - loss: 0.4360 - accuracy: 0.8286 - 38ms/epoch - 10ms/step\n",
      "Epoch 28/100\n",
      "4/4 - 0s - loss: 0.4411 - accuracy: 0.8571 - 38ms/epoch - 9ms/step\n",
      "Epoch 29/100\n",
      "4/4 - 0s - loss: 0.4404 - accuracy: 0.8095 - 37ms/epoch - 9ms/step\n",
      "Epoch 30/100\n",
      "4/4 - 0s - loss: 0.3695 - accuracy: 0.8667 - 37ms/epoch - 9ms/step\n",
      "Epoch 31/100\n",
      "4/4 - 0s - loss: 0.4026 - accuracy: 0.8190 - 37ms/epoch - 9ms/step\n",
      "Epoch 32/100\n",
      "4/4 - 0s - loss: 0.3770 - accuracy: 0.8381 - 37ms/epoch - 9ms/step\n",
      "Epoch 33/100\n",
      "4/4 - 0s - loss: 0.3883 - accuracy: 0.8381 - 37ms/epoch - 9ms/step\n",
      "Epoch 34/100\n",
      "4/4 - 0s - loss: 0.3661 - accuracy: 0.8190 - 34ms/epoch - 9ms/step\n",
      "Epoch 35/100\n",
      "4/4 - 0s - loss: 0.3877 - accuracy: 0.8190 - 38ms/epoch - 10ms/step\n",
      "Epoch 36/100\n",
      "4/4 - 0s - loss: 0.3610 - accuracy: 0.8381 - 35ms/epoch - 9ms/step\n",
      "Epoch 37/100\n",
      "4/4 - 0s - loss: 0.3523 - accuracy: 0.8571 - 39ms/epoch - 10ms/step\n",
      "Epoch 38/100\n",
      "4/4 - 0s - loss: 0.3875 - accuracy: 0.8762 - 35ms/epoch - 9ms/step\n",
      "Epoch 39/100\n",
      "4/4 - 0s - loss: 0.3388 - accuracy: 0.8571 - 35ms/epoch - 9ms/step\n",
      "Epoch 40/100\n",
      "4/4 - 0s - loss: 0.3633 - accuracy: 0.8571 - 39ms/epoch - 10ms/step\n",
      "Epoch 41/100\n",
      "4/4 - 0s - loss: 0.3528 - accuracy: 0.8190 - 41ms/epoch - 10ms/step\n",
      "Epoch 42/100\n",
      "4/4 - 0s - loss: 0.3202 - accuracy: 0.8571 - 39ms/epoch - 10ms/step\n",
      "Epoch 43/100\n",
      "4/4 - 0s - loss: 0.3443 - accuracy: 0.8476 - 38ms/epoch - 9ms/step\n",
      "Epoch 44/100\n",
      "4/4 - 0s - loss: 0.3172 - accuracy: 0.8762 - 39ms/epoch - 10ms/step\n",
      "Epoch 45/100\n",
      "4/4 - 0s - loss: 0.3104 - accuracy: 0.8952 - 40ms/epoch - 10ms/step\n",
      "Epoch 46/100\n",
      "4/4 - 0s - loss: 0.3664 - accuracy: 0.8286 - 39ms/epoch - 10ms/step\n",
      "Epoch 47/100\n",
      "4/4 - 0s - loss: 0.3279 - accuracy: 0.8952 - 36ms/epoch - 9ms/step\n",
      "Epoch 48/100\n",
      "4/4 - 0s - loss: 0.3173 - accuracy: 0.8857 - 40ms/epoch - 10ms/step\n",
      "Epoch 49/100\n",
      "4/4 - 0s - loss: 0.3297 - accuracy: 0.8762 - 36ms/epoch - 9ms/step\n",
      "Epoch 50/100\n",
      "4/4 - 0s - loss: 0.3438 - accuracy: 0.8190 - 35ms/epoch - 9ms/step\n",
      "Epoch 51/100\n",
      "4/4 - 0s - loss: 0.2985 - accuracy: 0.8571 - 37ms/epoch - 9ms/step\n",
      "Epoch 52/100\n",
      "4/4 - 0s - loss: 0.3051 - accuracy: 0.8762 - 37ms/epoch - 9ms/step\n",
      "Epoch 53/100\n",
      "4/4 - 0s - loss: 0.2933 - accuracy: 0.9048 - 38ms/epoch - 10ms/step\n",
      "Epoch 54/100\n",
      "4/4 - 0s - loss: 0.3092 - accuracy: 0.8857 - 38ms/epoch - 9ms/step\n",
      "Epoch 55/100\n",
      "4/4 - 0s - loss: 0.3524 - accuracy: 0.8286 - 37ms/epoch - 9ms/step\n",
      "Epoch 56/100\n",
      "4/4 - 0s - loss: 0.2929 - accuracy: 0.8952 - 35ms/epoch - 9ms/step\n",
      "Epoch 57/100\n",
      "4/4 - 0s - loss: 0.2805 - accuracy: 0.8762 - 34ms/epoch - 8ms/step\n",
      "Epoch 58/100\n",
      "4/4 - 0s - loss: 0.3129 - accuracy: 0.8762 - 37ms/epoch - 9ms/step\n",
      "Epoch 59/100\n",
      "4/4 - 0s - loss: 0.2855 - accuracy: 0.8762 - 36ms/epoch - 9ms/step\n",
      "Epoch 60/100\n",
      "4/4 - 0s - loss: 0.2826 - accuracy: 0.8857 - 39ms/epoch - 10ms/step\n",
      "Epoch 61/100\n",
      "4/4 - 0s - loss: 0.2457 - accuracy: 0.9524 - 36ms/epoch - 9ms/step\n",
      "Epoch 62/100\n",
      "4/4 - 0s - loss: 0.2495 - accuracy: 0.9048 - 38ms/epoch - 9ms/step\n",
      "Epoch 63/100\n",
      "4/4 - 0s - loss: 0.2380 - accuracy: 0.9333 - 35ms/epoch - 9ms/step\n",
      "Epoch 64/100\n",
      "4/4 - 0s - loss: 0.2578 - accuracy: 0.9333 - 38ms/epoch - 9ms/step\n",
      "Epoch 65/100\n",
      "4/4 - 0s - loss: 0.2513 - accuracy: 0.9619 - 42ms/epoch - 10ms/step\n",
      "Epoch 66/100\n",
      "4/4 - 0s - loss: 0.2466 - accuracy: 0.9238 - 44ms/epoch - 11ms/step\n",
      "Epoch 67/100\n",
      "4/4 - 0s - loss: 0.2682 - accuracy: 0.9048 - 40ms/epoch - 10ms/step\n",
      "Epoch 68/100\n",
      "4/4 - 0s - loss: 0.2635 - accuracy: 0.9333 - 42ms/epoch - 10ms/step\n",
      "Epoch 69/100\n",
      "4/4 - 0s - loss: 0.2687 - accuracy: 0.9238 - 39ms/epoch - 10ms/step\n",
      "Epoch 70/100\n",
      "4/4 - 0s - loss: 0.2571 - accuracy: 0.8952 - 41ms/epoch - 10ms/step\n",
      "Epoch 71/100\n",
      "4/4 - 0s - loss: 0.2160 - accuracy: 0.9238 - 40ms/epoch - 10ms/step\n",
      "Epoch 72/100\n",
      "4/4 - 0s - loss: 0.2291 - accuracy: 0.9143 - 38ms/epoch - 9ms/step\n",
      "Epoch 73/100\n",
      "4/4 - 0s - loss: 0.2485 - accuracy: 0.9143 - 37ms/epoch - 9ms/step\n",
      "Epoch 74/100\n",
      "4/4 - 0s - loss: 0.2437 - accuracy: 0.9143 - 38ms/epoch - 9ms/step\n",
      "Epoch 75/100\n",
      "4/4 - 0s - loss: 0.2336 - accuracy: 0.9333 - 40ms/epoch - 10ms/step\n",
      "Epoch 76/100\n",
      "4/4 - 0s - loss: 0.2230 - accuracy: 0.9143 - 39ms/epoch - 10ms/step\n",
      "Epoch 77/100\n",
      "4/4 - 0s - loss: 0.2048 - accuracy: 0.9143 - 37ms/epoch - 9ms/step\n",
      "Epoch 78/100\n",
      "4/4 - 0s - loss: 0.2232 - accuracy: 0.9333 - 38ms/epoch - 10ms/step\n",
      "Epoch 79/100\n",
      "4/4 - 0s - loss: 0.2209 - accuracy: 0.9333 - 38ms/epoch - 9ms/step\n",
      "Epoch 80/100\n",
      "4/4 - 0s - loss: 0.2085 - accuracy: 0.9333 - 39ms/epoch - 10ms/step\n",
      "Epoch 81/100\n",
      "4/4 - 0s - loss: 0.1993 - accuracy: 0.9524 - 38ms/epoch - 10ms/step\n",
      "Epoch 82/100\n",
      "4/4 - 0s - loss: 0.1857 - accuracy: 0.9619 - 37ms/epoch - 9ms/step\n",
      "Epoch 83/100\n",
      "4/4 - 0s - loss: 0.1863 - accuracy: 0.9524 - 39ms/epoch - 10ms/step\n",
      "Epoch 84/100\n",
      "4/4 - 0s - loss: 0.1832 - accuracy: 0.9619 - 38ms/epoch - 10ms/step\n",
      "Epoch 85/100\n",
      "4/4 - 0s - loss: 0.1603 - accuracy: 0.9429 - 40ms/epoch - 10ms/step\n",
      "Epoch 86/100\n",
      "4/4 - 0s - loss: 0.1791 - accuracy: 0.9810 - 38ms/epoch - 9ms/step\n",
      "Epoch 87/100\n",
      "4/4 - 0s - loss: 0.1645 - accuracy: 0.9524 - 35ms/epoch - 9ms/step\n",
      "Epoch 88/100\n",
      "4/4 - 0s - loss: 0.2116 - accuracy: 0.9238 - 38ms/epoch - 10ms/step\n",
      "Epoch 89/100\n",
      "4/4 - 0s - loss: 0.1708 - accuracy: 0.9429 - 43ms/epoch - 11ms/step\n",
      "Epoch 90/100\n",
      "4/4 - 0s - loss: 0.1754 - accuracy: 0.9714 - 42ms/epoch - 10ms/step\n",
      "Epoch 91/100\n",
      "4/4 - 0s - loss: 0.1552 - accuracy: 0.9524 - 40ms/epoch - 10ms/step\n",
      "Epoch 92/100\n",
      "4/4 - 0s - loss: 0.1490 - accuracy: 0.9619 - 38ms/epoch - 9ms/step\n",
      "Epoch 93/100\n",
      "4/4 - 0s - loss: 0.1898 - accuracy: 0.9238 - 38ms/epoch - 10ms/step\n",
      "Epoch 94/100\n",
      "4/4 - 0s - loss: 0.1488 - accuracy: 0.9714 - 38ms/epoch - 9ms/step\n",
      "Epoch 95/100\n",
      "4/4 - 0s - loss: 0.1877 - accuracy: 0.9429 - 39ms/epoch - 10ms/step\n",
      "Epoch 96/100\n",
      "4/4 - 0s - loss: 0.1538 - accuracy: 0.9619 - 39ms/epoch - 10ms/step\n",
      "Epoch 97/100\n",
      "4/4 - 0s - loss: 0.1857 - accuracy: 0.9429 - 37ms/epoch - 9ms/step\n",
      "Epoch 98/100\n",
      "4/4 - 0s - loss: 0.1763 - accuracy: 0.9333 - 38ms/epoch - 9ms/step\n",
      "Epoch 99/100\n",
      "4/4 - 0s - loss: 0.1735 - accuracy: 0.9524 - 50ms/epoch - 12ms/step\n",
      "Epoch 100/100\n",
      "4/4 - 0s - loss: 0.1362 - accuracy: 0.9619 - 37ms/epoch - 9ms/step\n"
     ]
    },
    {
     "data": {
      "text/plain": [
       "<keras.callbacks.History at 0x16ccb4b50>"
      ]
     },
     "execution_count": 22,
     "metadata": {},
     "output_type": "execute_result"
    }
   ],
   "source": [
    "model.fit(x_train, y_train, epochs=100, verbose=2)"
   ]
  },
  {
   "cell_type": "code",
   "execution_count": 23,
   "id": "abbef3be",
   "metadata": {},
   "outputs": [
    {
     "name": "stdout",
     "output_type": "stream",
     "text": [
      "2/2 [==============================] - 0s 18ms/step\n",
      "[[9.9946219e-01 4.8392054e-04 5.3865653e-05]\n",
      " [3.4496377e-03 9.3944883e-01 5.7101529e-02]\n",
      " [9.9754477e-01 2.3062190e-03 1.4900243e-04]\n",
      " [4.0955580e-05 1.3634584e-02 9.8632449e-01]\n",
      " [9.9670237e-01 3.0157326e-03 2.8197953e-04]]\n"
     ]
    },
    {
     "name": "stderr",
     "output_type": "stream",
     "text": [
      "2023-05-11 05:00:12.708082: I tensorflow/core/grappler/optimizers/custom_graph_optimizer_registry.cc:114] Plugin optimizer for device_type GPU is enabled.\n"
     ]
    }
   ],
   "source": [
    "prediction = model.predict(x_test)\n",
    "print(prediction[:5])"
   ]
  },
  {
   "cell_type": "code",
   "execution_count": 24,
   "id": "e76053da",
   "metadata": {},
   "outputs": [
    {
     "name": "stdout",
     "output_type": "stream",
     "text": [
      "[0 1 0 2 0]\n"
     ]
    }
   ],
   "source": [
    "prediction = np.argmax(prediction, axis=-1)\n",
    "print(prediction[:5])"
   ]
  },
  {
   "cell_type": "code",
   "execution_count": 25,
   "id": "d73db658",
   "metadata": {},
   "outputs": [
    {
     "name": "stdout",
     "output_type": "stream",
     "text": [
      "4      0\n",
      "58     1\n",
      "20     0\n",
      "114    2\n",
      "31     0\n",
      "Name: Species, dtype: int64\n"
     ]
    },
    {
     "name": "stderr",
     "output_type": "stream",
     "text": [
      "/var/folders/75/fyf8yn3s0h3chmlrq431v9kr0000gn/T/ipykernel_24405/4125655240.py:1: FutureWarning: The behavior of `series[i:j]` with an integer-dtype index is deprecated. In a future version, this will be treated as *label-based* indexing, consistent with e.g. `series[i]` lookups. To retain the old behavior, use `series.iloc[i:j]`. To get the future behavior, use `series.loc[i:j]`.\n",
      "  print(y_test[:5])\n"
     ]
    }
   ],
   "source": [
    "print(y_test[:5])"
   ]
  },
  {
   "cell_type": "code",
   "execution_count": 26,
   "id": "74b91d1c",
   "metadata": {},
   "outputs": [
    {
     "name": "stdout",
     "output_type": "stream",
     "text": [
      "0.9777777777777777\n"
     ]
    }
   ],
   "source": [
    "from sklearn.metrics import accuracy_score, confusion_matrix\n",
    "print(accuracy_score(y_test, prediction))"
   ]
  },
  {
   "cell_type": "code",
   "execution_count": 27,
   "id": "489c52d3",
   "metadata": {},
   "outputs": [
    {
     "name": "stdout",
     "output_type": "stream",
     "text": [
      "[[16  0  0]\n",
      " [ 0 12  0]\n",
      " [ 0  1 16]]\n"
     ]
    }
   ],
   "source": [
    "cm = confusion_matrix(y_test, prediction)\n",
    "print(cm)"
   ]
  },
  {
   "cell_type": "code",
   "execution_count": 31,
   "id": "9cd87323",
   "metadata": {},
   "outputs": [
    {
     "data": {
      "text/plain": [
       "Text(50.72222222222221, 0.5, 'actual')"
      ]
     },
     "execution_count": 31,
     "metadata": {},
     "output_type": "execute_result"
    },
    {
     "data": {
      "image/png": "[encoded data removed]",
      "text/plain": [
       "<Figure size 640x480 with 2 Axes>"
      ]
     },
     "metadata": {},
     "output_type": "display_data"
    }
   ],
   "source": [
    "ax = sns.heatmap(cm, annot=True, fmt='d', cmap='Reds', xticklabels=species_name, yticklabels=species_name)\n",
    "ax.set_title('confusion matrix for irsis dataset prediction')\n",
    "ax.set_xlabel('prediction', fontsize=14)\n",
    "ax.set_ylabel('actual', fontsize=14)\n"
   ]
  },
  {
   "cell_type": "code",
   "execution_count": null,
   "id": "2582fba4",
   "metadata": {},
   "outputs": [],
   "source": []
  }
 ],
 "metadata": {
  "kernelspec": {
   "display_name": "Python 3 (ipykernel)",
   "language": "python",
   "name": "python3"
  },
  "language_info": {
   "codemirror_mode": {
    "name": "ipython",
    "version": 3
   },
   "file_extension": ".py",
   "mimetype": "text/x-python",
   "name": "python",
   "nbconvert_exporter": "python",
   "pygments_lexer": "ipython3",
   "version": "3.10.8"
  }
 },
 "nbformat": 4,
 "nbformat_minor": 5
}
